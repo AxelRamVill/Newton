{
  "nbformat": 4,
  "nbformat_minor": 0,
  "metadata": {
    "colab": {
      "name": "Newton.ipynb",
      "provenance": [],
      "collapsed_sections": []
    },
    "kernelspec": {
      "name": "python3",
      "display_name": "Python 3"
    }
  },
  "cells": [
    {
      "cell_type": "code",
      "metadata": {
        "colab": {
          "base_uri": "https://localhost:8080/",
          "height": 423
        },
        "id": "7LTdhagjqcYz",
        "outputId": "dc21832f-c9b8-4f37-b934-b7cbe9f1dbd8"
      },
      "source": [
        "import matplotlib.pyplot as plt\n",
        "import math\n",
        "\n",
        "def fx(x):\n",
        "    return ((2)*(x**2))-x-5\n",
        "\n",
        "def fx_prima(x):\n",
        "    return (4*x)-1\n",
        "\n",
        "def xi_next(xi,Criterio_Paro = 0.0001):\n",
        "    x=[xi]\n",
        "    Error=[]\n",
        "    No_Converge=0\n",
        "    Converge=True\n",
        "    mensaje='Sí Converge'\n",
        "    i=0\n",
        "    x.append(x[i]-(fx(x[i])/fx_prima(x[i])))\n",
        "    i+=1\n",
        "    Error.append(abs(x[i]-x[i-1]))\n",
        "    \n",
        "    while((Error[i-1]>Criterio_Paro)):\n",
        "        x.append(x[i]-(fx(x[i])/fx_prima(x[i])))\n",
        "        i+=1\n",
        "        Error.append(abs(x[i]-x[i-1]))\n",
        "        if(No_Converge==50 or x[i]>999999999999):\n",
        "                mensaje = 'No converge'\n",
        "                Converge=False\n",
        "        No_Converge+=1\n",
        "    \n",
        "    print(\"Raíz: \"+ str(x) +\"\\n\\nError: \"+ str(Error))\n",
        "    plt.plot(x,label=\"x Raíz\",color='b')\n",
        "    plt.plot(Error,label=\"Error\",color='r')\n",
        "    plt.title(\"Newton Raphson \" + mensaje, fontsize = 24)\n",
        "    plt.legend()\n",
        "    plt.show()\n",
        "    \n",
        "    return Converge\n",
        "    \n",
        "xn = int(input('Introduce el valor de x \\n'))\n",
        "s=int(input(\"Selecciona 1 si quieres introducir un criterio de paro de lo contrario escribe cualquier numero \\n\"))\n",
        "if s==1:\n",
        "    criterio_paro = float(input('Introduce el valor del criterio de paro \\n'))\n",
        "    print(str(xi_next(xn,criterio_paro)))\n",
        "else:    \n",
        "    print(str(xi_next(xn)))"
      ],
      "execution_count": 3,
      "outputs": [
        {
          "output_type": "stream",
          "text": [
            "Introduce el valor de x \n",
            "0\n",
            "Selecciona 1 si quieres introducir un criterio de paro de lo contrario escribe cualquier numero \n",
            "3\n",
            "Raíz: [0, -5.0, -2.619047619047619, -1.6311005730092867, -1.3716675103170433, -1.3509155640673713, -1.3507810650085779, -1.3507810593582121]\n",
            "\n",
            "Error: [5.0, 2.380952380952381, 0.9879470460383324, 0.2594330626922434, 0.020751946249671915, 0.00013449905879348023, 5.650365730858198e-09]\n"
          ],
          "name": "stdout"
        },
        {
          "output_type": "display_data",
          "data": {
            "image/png": "[encoded data removed]",
            "text/plain": [
              "<Figure size 432x288 with 1 Axes>"
            ]
          },
          "metadata": {
            "tags": [],
            "needs_background": "light"
          }
        },
        {
          "output_type": "stream",
          "text": [
            "True\n"
          ],
          "name": "stdout"
        }
      ]
    }
  ]
}